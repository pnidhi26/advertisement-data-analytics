{
 "cells": [
  {
   "cell_type": "code",
   "execution_count": 2,
   "metadata": {},
   "outputs": [],
   "source": [
    "import pandas as pd"
   ]
  },
  {
   "cell_type": "code",
   "execution_count": 5,
   "metadata": {},
   "outputs": [],
   "source": [
    "xls = pd.ExcelFile('dataset_sokrati.xlsx')\n",
    "data = pd.read_excel(xls, 'Assignment-2')"
   ]
  },
  {
   "cell_type": "code",
   "execution_count": 6,
   "metadata": {},
   "outputs": [],
   "source": [
    "# quaterly analysis\n",
    "\n",
    "data_t = data.T\n",
    "data_t.columns = data_t.iloc[0]\n",
    "data_t= data_t[1:]"
   ]
  },
  {
   "cell_type": "code",
   "execution_count": 7,
   "metadata": {},
   "outputs": [
    {
     "name": "stdout",
     "output_type": "stream",
     "text": [
      "{'2019-Q3': 33899535, '2019-Q4': 55790393, '2020-Q1': 57378126, '2020-Q2': 55962950, '2020-Q3': 18795771}\n"
     ]
    }
   ],
   "source": [
    "# 1) What is the monthly & quaterly sales data by SKU?\n",
    "\n",
    "\n",
    "#Quaterly sales\n",
    "quarterly_sales={}\n",
    "for date, row in data_t.iterrows():\n",
    "    name = str(date.year)+\"-Q\"+str((date.month-1)//3+1)\n",
    "    if name not in quarterly_sales:\n",
    "        quarterly_sales[name]=sum(row)\n",
    "    else:\n",
    "        quarterly_sales[name]+=sum(row)\n",
    "print(quarterly_sales)\n"
   ]
  },
  {
   "cell_type": "code",
   "execution_count": 8,
   "metadata": {},
   "outputs": [
    {
     "name": "stdout",
     "output_type": "stream",
     "text": [
      "{8: 552378, 9: 596935, 10: 573703, 11: 638478, 12: 616616, 1: 612681, 2: 648829, 3: 650088, 4: 614686, 5: 596492, 6: 617014, 7: 613488}\n"
     ]
    }
   ],
   "source": [
    "#monthly sales \n",
    "monthly_sales={}\n",
    "for date, row in data_t.iterrows():\n",
    "    if date.month not in monthly_sales:\n",
    "        monthly_sales[date.month]=sum(row)\n",
    "    else:\n",
    "        monthly_sales[date.month]=sum(row)\n",
    "print(monthly_sales)"
   ]
  },
  {
   "cell_type": "code",
   "execution_count": 9,
   "metadata": {},
   "outputs": [
    {
     "data": {
      "text/plain": [
       "[3, 2, 11]"
      ]
     },
     "execution_count": 9,
     "metadata": {},
     "output_type": "execute_result"
    }
   ],
   "source": [
    "# 2) Which are the top 3 months in terms of overall sales?\n",
    "\n",
    "\n",
    "#Top 3 months in terms of overall sales\n",
    "top3_months = sorted(monthly_sales, key=monthly_sales.get, reverse=True)[:3]\n",
    "top3_months"
   ]
  },
  {
   "cell_type": "code",
   "execution_count": null,
   "metadata": {},
   "outputs": [],
   "source": [
    "# 3) Which SKUs are outliers in terms sales in any month\n",
    "\n",
    "Ans:\n",
    "# All the SKUs which has less sales in everymonths arround means of overall sales would be count."
   ]
  }
 ],
 "metadata": {
  "kernelspec": {
   "display_name": "Python 3",
   "language": "python",
   "name": "python3"
  },
  "language_info": {
   "codemirror_mode": {
    "name": "ipython",
    "version": 3
   },
   "file_extension": ".py",
   "mimetype": "text/x-python",
   "name": "python",
   "nbconvert_exporter": "python",
   "pygments_lexer": "ipython3",
   "version": "3.6.8"
  }
 },
 "nbformat": 4,
 "nbformat_minor": 4
}
